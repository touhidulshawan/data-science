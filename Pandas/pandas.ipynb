{
 "cells": [
  {
   "cell_type": "code",
   "execution_count": 33,
   "id": "d0a4b711-69c9-49c5-8808-dc5bc7e57b01",
   "metadata": {},
   "outputs": [],
   "source": [
    "import numpy as np\n",
    "import pandas as pd"
   ]
  },
  {
   "cell_type": "code",
   "execution_count": 34,
   "id": "65f0b05a-a632-4e39-8f29-240205b86b65",
   "metadata": {},
   "outputs": [],
   "source": [
    "d = {\"brand\": \"Ford\",\n",
    "     \"model\": \"Mustang\",\n",
    "     \"year\": 1964}"
   ]
  },
  {
   "cell_type": "code",
   "execution_count": 35,
   "id": "21367f3c-1700-42ae-abc2-0d26ef2edacc",
   "metadata": {},
   "outputs": [
    {
     "data": {
      "text/plain": [
       "dict_keys(['brand', 'model', 'year'])"
      ]
     },
     "execution_count": 35,
     "metadata": {},
     "output_type": "execute_result"
    }
   ],
   "source": [
    "d.keys()"
   ]
  },
  {
   "cell_type": "code",
   "execution_count": 36,
   "id": "801523dc-52cb-43ac-8c4b-9c908a1e2196",
   "metadata": {},
   "outputs": [
    {
     "data": {
      "text/plain": [
       "dict_values(['Ford', 'Mustang', 1964])"
      ]
     },
     "execution_count": 36,
     "metadata": {},
     "output_type": "execute_result"
    }
   ],
   "source": [
    "d.values()"
   ]
  },
  {
   "cell_type": "code",
   "execution_count": 37,
   "id": "7f61aae5-ac89-4a32-b128-8662910410d9",
   "metadata": {},
   "outputs": [
    {
     "data": {
      "text/plain": [
       "dict_items([('brand', 'Ford'), ('model', 'Mustang'), ('year', 1964)])"
      ]
     },
     "execution_count": 37,
     "metadata": {},
     "output_type": "execute_result"
    }
   ],
   "source": [
    "d.items()"
   ]
  },
  {
   "cell_type": "code",
   "execution_count": 38,
   "id": "d1b2d41b-ae8f-4c53-9dad-c9dfee8d39d6",
   "metadata": {},
   "outputs": [],
   "source": [
    "my_index = ['Mango', 'Orange', 'Apple', 'Banana', \"Luci\", \"Shawan\"]"
   ]
  },
  {
   "cell_type": "code",
   "execution_count": 39,
   "id": "1b1269f7-e0bc-46b6-855c-09d71572a5c9",
   "metadata": {},
   "outputs": [],
   "source": [
    "my_data = [2050, 1205, 2305, 1508, 2003, 4003]"
   ]
  },
  {
   "cell_type": "code",
   "execution_count": 40,
   "id": "b22f4011-2ed6-4008-a200-8a0d5ef7705c",
   "metadata": {},
   "outputs": [],
   "source": [
    "my_series = pd.Series(data=my_data, index=my_index)"
   ]
  },
  {
   "cell_type": "code",
   "execution_count": 41,
   "id": "5c147bef-6c71-4bac-9731-adcb74a65fa5",
   "metadata": {},
   "outputs": [
    {
     "data": {
      "text/plain": [
       "Mango     2050\n",
       "Orange    1205\n",
       "Apple     2305\n",
       "Banana    1508\n",
       "Luci      2003\n",
       "Shawan    4003\n",
       "dtype: int64"
      ]
     },
     "execution_count": 41,
     "metadata": {},
     "output_type": "execute_result"
    }
   ],
   "source": [
    "my_series"
   ]
  },
  {
   "cell_type": "code",
   "execution_count": 42,
   "id": "e5dbbe3a-b452-4cf5-ad58-e3cd5774913c",
   "metadata": {},
   "outputs": [
    {
     "data": {
      "text/plain": [
       "pandas.core.series.Series"
      ]
     },
     "execution_count": 42,
     "metadata": {},
     "output_type": "execute_result"
    }
   ],
   "source": [
    "type(my_series)"
   ]
  },
  {
   "cell_type": "code",
   "execution_count": 43,
   "id": "5f223f58-aa0f-4d51-8a9e-fbc5c6e60a1c",
   "metadata": {},
   "outputs": [
    {
     "data": {
      "text/plain": [
       "2305"
      ]
     },
     "execution_count": 43,
     "metadata": {},
     "output_type": "execute_result"
    }
   ],
   "source": [
    "my_series[2]"
   ]
  },
  {
   "cell_type": "code",
   "execution_count": 44,
   "id": "d9998d44-1c4f-41c9-8103-762b1cfcde0c",
   "metadata": {},
   "outputs": [
    {
     "data": {
      "text/plain": [
       "1508"
      ]
     },
     "execution_count": 44,
     "metadata": {},
     "output_type": "execute_result"
    }
   ],
   "source": [
    "my_series['Banana']"
   ]
  },
  {
   "cell_type": "code",
   "execution_count": 45,
   "id": "2dbbc202-61ec-4637-8b58-a94ce5e1125b",
   "metadata": {},
   "outputs": [],
   "source": [
    "ages = {'Tom': 12, 'Luci': 22, 'Shawan': 25}"
   ]
  },
  {
   "cell_type": "code",
   "execution_count": 46,
   "id": "b1a3ee8e-ebf9-4117-a68d-43574d5e199a",
   "metadata": {},
   "outputs": [],
   "source": [
    "age_series = pd.Series(ages)"
   ]
  },
  {
   "cell_type": "code",
   "execution_count": 47,
   "id": "457ed350-368d-4d83-8cf1-4bc302eada33",
   "metadata": {},
   "outputs": [
    {
     "data": {
      "text/plain": [
       "Tom       12\n",
       "Luci      22\n",
       "Shawan    25\n",
       "dtype: int64"
      ]
     },
     "execution_count": 47,
     "metadata": {},
     "output_type": "execute_result"
    }
   ],
   "source": [
    "age_series"
   ]
  },
  {
   "cell_type": "code",
   "execution_count": 48,
   "id": "1e9da9ef-b374-4008-97ff-1125110441ce",
   "metadata": {},
   "outputs": [
    {
     "data": {
      "text/plain": [
       "pandas.core.series.Series"
      ]
     },
     "execution_count": 48,
     "metadata": {},
     "output_type": "execute_result"
    }
   ],
   "source": [
    "type(age_series)"
   ]
  },
  {
   "cell_type": "code",
   "execution_count": 49,
   "id": "0b660c01-57ec-4749-a3ff-74148b80757b",
   "metadata": {},
   "outputs": [
    {
     "data": {
      "text/plain": [
       "Index(['Tom', 'Luci', 'Shawan'], dtype='object')"
      ]
     },
     "execution_count": 49,
     "metadata": {},
     "output_type": "execute_result"
    }
   ],
   "source": [
    "age_series.keys()"
   ]
  },
  {
   "cell_type": "code",
   "execution_count": 50,
   "id": "9c30b768-a04e-4fef-8cd5-e22b2dcce2ca",
   "metadata": {},
   "outputs": [
    {
     "data": {
      "text/plain": [
       "array([12, 22, 25])"
      ]
     },
     "execution_count": 50,
     "metadata": {},
     "output_type": "execute_result"
    }
   ],
   "source": [
    "age_series.values"
   ]
  },
  {
   "cell_type": "code",
   "execution_count": 51,
   "id": "2b1149ba-4acb-4c03-a167-b45dab72a9d5",
   "metadata": {},
   "outputs": [
    {
     "data": {
      "text/plain": [
       "<bound method Series.items of Tom       12\n",
       "Luci      22\n",
       "Shawan    25\n",
       "dtype: int64>"
      ]
     },
     "execution_count": 51,
     "metadata": {},
     "output_type": "execute_result"
    }
   ],
   "source": [
    "age_series.items"
   ]
  },
  {
   "cell_type": "markdown",
   "id": "4ea2768d-c3ed-441a-bd7d-e44b00504959",
   "metadata": {},
   "source": [
    "### Can broadcast in pandas series"
   ]
  },
  {
   "cell_type": "code",
   "execution_count": 52,
   "id": "ee21dd9a-ac40-4b42-9a00-200ef4ea5c94",
   "metadata": {},
   "outputs": [
    {
     "data": {
      "text/plain": [
       "Mango     1025.0\n",
       "Orange     602.5\n",
       "Apple     1152.5\n",
       "Banana     754.0\n",
       "Luci      1001.5\n",
       "Shawan    2001.5\n",
       "dtype: float64"
      ]
     },
     "execution_count": 52,
     "metadata": {},
     "output_type": "execute_result"
    }
   ],
   "source": [
    "my_series / 2"
   ]
  },
  {
   "cell_type": "code",
   "execution_count": 53,
   "id": "9f58c08e-fa2c-4f33-9a45-deffc9f31937",
   "metadata": {},
   "outputs": [
    {
     "data": {
      "text/plain": [
       "Mango     2050\n",
       "Orange    1205\n",
       "Apple     2305\n",
       "Banana    1508\n",
       "Luci      2003\n",
       "Shawan    4003\n",
       "dtype: int64"
      ]
     },
     "execution_count": 53,
     "metadata": {},
     "output_type": "execute_result"
    }
   ],
   "source": [
    "my_series"
   ]
  },
  {
   "cell_type": "code",
   "execution_count": 54,
   "id": "f566fcce-d8f1-4075-9183-98919079448a",
   "metadata": {},
   "outputs": [
    {
     "data": {
      "text/plain": [
       "Apple        NaN\n",
       "Banana       NaN\n",
       "Luci      2025.0\n",
       "Mango        NaN\n",
       "Orange       NaN\n",
       "Shawan    4028.0\n",
       "Tom          NaN\n",
       "dtype: float64"
      ]
     },
     "execution_count": 54,
     "metadata": {},
     "output_type": "execute_result"
    }
   ],
   "source": [
    "my_series + age_series"
   ]
  },
  {
   "cell_type": "code",
   "execution_count": 55,
   "id": "9b2c865b-6caa-4a3d-ac64-053e3eb3cf4f",
   "metadata": {},
   "outputs": [
    {
     "data": {
      "text/plain": [
       "Apple     2305.0\n",
       "Banana    1508.0\n",
       "Luci      2025.0\n",
       "Mango     2050.0\n",
       "Orange    1205.0\n",
       "Shawan    4028.0\n",
       "Tom         12.0\n",
       "dtype: float64"
      ]
     },
     "execution_count": 55,
     "metadata": {},
     "output_type": "execute_result"
    }
   ],
   "source": [
    "my_series.add(age_series, fill_value=0)"
   ]
  },
  {
   "cell_type": "markdown",
   "id": "f310f3f7-70cb-45b4-865e-ef2652b121dd",
   "metadata": {},
   "source": [
    "## DataFrames"
   ]
  },
  {
   "cell_type": "code",
   "execution_count": 63,
   "id": "e4a3dd25-cf3f-4c44-ad55-cc6ca1799d6c",
   "metadata": {},
   "outputs": [],
   "source": [
    "np.random.seed(75)\n",
    "data = np.random.randint(0, 101, (4, 3))"
   ]
  },
  {
   "cell_type": "code",
   "execution_count": 69,
   "id": "7eb172d5-1978-4fc4-99bf-d7f8aa51a217",
   "metadata": {},
   "outputs": [
    {
     "data": {
      "text/plain": [
       "array([[19, 81,  8],\n",
       "       [64, 26, 70],\n",
       "       [34, 81, 96],\n",
       "       [71, 55, 70]])"
      ]
     },
     "execution_count": 69,
     "metadata": {},
     "output_type": "execute_result"
    }
   ],
   "source": [
    "data"
   ]
  },
  {
   "cell_type": "code",
   "execution_count": 65,
   "id": "ff73efe4-0ca7-4961-a2b3-bea4256a2398",
   "metadata": {},
   "outputs": [],
   "source": [
    "data_columns = ['Jan', 'Feb', 'Mar']"
   ]
  },
  {
   "cell_type": "code",
   "execution_count": 71,
   "id": "164bcbe1-fa7c-44be-be73-988d8ccc4b5e",
   "metadata": {},
   "outputs": [],
   "source": [
    "data_index = ['DH', 'CH', 'BS', 'KH']"
   ]
  },
  {
   "cell_type": "code",
   "execution_count": 72,
   "id": "2008dc57-951d-4127-a39b-1703bfb86807",
   "metadata": {},
   "outputs": [],
   "source": [
    "df = pd.DataFrame(data, data_index, data_columns)"
   ]
  },
  {
   "cell_type": "code",
   "execution_count": 73,
   "id": "f8c5c444-83e8-4697-bbb4-4c4595544017",
   "metadata": {},
   "outputs": [
    {
     "data": {
      "text/html": [
       "<div>\n",
       "<style scoped>\n",
       "    .dataframe tbody tr th:only-of-type {\n",
       "        vertical-align: middle;\n",
       "    }\n",
       "\n",
       "    .dataframe tbody tr th {\n",
       "        vertical-align: top;\n",
       "    }\n",
       "\n",
       "    .dataframe thead th {\n",
       "        text-align: right;\n",
       "    }\n",
       "</style>\n",
       "<table border=\"1\" class=\"dataframe\">\n",
       "  <thead>\n",
       "    <tr style=\"text-align: right;\">\n",
       "      <th></th>\n",
       "      <th>Jan</th>\n",
       "      <th>Feb</th>\n",
       "      <th>Mar</th>\n",
       "    </tr>\n",
       "  </thead>\n",
       "  <tbody>\n",
       "    <tr>\n",
       "      <th>DH</th>\n",
       "      <td>19</td>\n",
       "      <td>81</td>\n",
       "      <td>8</td>\n",
       "    </tr>\n",
       "    <tr>\n",
       "      <th>CH</th>\n",
       "      <td>64</td>\n",
       "      <td>26</td>\n",
       "      <td>70</td>\n",
       "    </tr>\n",
       "    <tr>\n",
       "      <th>BS</th>\n",
       "      <td>34</td>\n",
       "      <td>81</td>\n",
       "      <td>96</td>\n",
       "    </tr>\n",
       "    <tr>\n",
       "      <th>KH</th>\n",
       "      <td>71</td>\n",
       "      <td>55</td>\n",
       "      <td>70</td>\n",
       "    </tr>\n",
       "  </tbody>\n",
       "</table>\n",
       "</div>"
      ],
      "text/plain": [
       "    Jan  Feb  Mar\n",
       "DH   19   81    8\n",
       "CH   64   26   70\n",
       "BS   34   81   96\n",
       "KH   71   55   70"
      ]
     },
     "execution_count": 73,
     "metadata": {},
     "output_type": "execute_result"
    }
   ],
   "source": [
    "df"
   ]
  },
  {
   "cell_type": "code",
   "execution_count": 74,
   "id": "9437d1e9-70e0-4a55-9f72-4f6d63344ea1",
   "metadata": {},
   "outputs": [
    {
     "name": "stdout",
     "output_type": "stream",
     "text": [
      "<class 'pandas.core.frame.DataFrame'>\n",
      "Index: 4 entries, DH to KH\n",
      "Data columns (total 3 columns):\n",
      " #   Column  Non-Null Count  Dtype\n",
      "---  ------  --------------  -----\n",
      " 0   Jan     4 non-null      int64\n",
      " 1   Feb     4 non-null      int64\n",
      " 2   Mar     4 non-null      int64\n",
      "dtypes: int64(3)\n",
      "memory usage: 128.0+ bytes\n"
     ]
    }
   ],
   "source": [
    "df.info()"
   ]
  },
  {
   "cell_type": "code",
   "execution_count": 76,
   "id": "d409e602-55dd-4a6b-96d4-f98c33f9f7d3",
   "metadata": {},
   "outputs": [],
   "source": [
    "df = pd.read_csv(\"./data/dummy1.csv\")"
   ]
  },
  {
   "cell_type": "code",
   "execution_count": 77,
   "id": "c212070e-3579-47c8-a504-852c024aadd8",
   "metadata": {},
   "outputs": [
    {
     "data": {
      "text/html": [
       "<div>\n",
       "<style scoped>\n",
       "    .dataframe tbody tr th:only-of-type {\n",
       "        vertical-align: middle;\n",
       "    }\n",
       "\n",
       "    .dataframe tbody tr th {\n",
       "        vertical-align: top;\n",
       "    }\n",
       "\n",
       "    .dataframe thead th {\n",
       "        text-align: right;\n",
       "    }\n",
       "</style>\n",
       "<table border=\"1\" class=\"dataframe\">\n",
       "  <thead>\n",
       "    <tr style=\"text-align: right;\">\n",
       "      <th></th>\n",
       "      <th>feature1</th>\n",
       "      <th>feature2</th>\n",
       "      <th>feature3</th>\n",
       "      <th>feature4</th>\n",
       "      <th>feature5</th>\n",
       "      <th>feature6</th>\n",
       "    </tr>\n",
       "  </thead>\n",
       "  <tbody>\n",
       "    <tr>\n",
       "      <th>0</th>\n",
       "      <td>12</td>\n",
       "      <td>33</td>\n",
       "      <td>22</td>\n",
       "      <td>12</td>\n",
       "      <td>4</td>\n",
       "      <td>Hello</td>\n",
       "    </tr>\n",
       "    <tr>\n",
       "      <th>1</th>\n",
       "      <td>12</td>\n",
       "      <td>32</td>\n",
       "      <td>15</td>\n",
       "      <td>17</td>\n",
       "      <td>3</td>\n",
       "      <td>World</td>\n",
       "    </tr>\n",
       "    <tr>\n",
       "      <th>2</th>\n",
       "      <td>5</td>\n",
       "      <td>12</td>\n",
       "      <td>34</td>\n",
       "      <td>32</td>\n",
       "      <td>12</td>\n",
       "      <td>Blah</td>\n",
       "    </tr>\n",
       "    <tr>\n",
       "      <th>3</th>\n",
       "      <td>7</td>\n",
       "      <td>19</td>\n",
       "      <td>32</td>\n",
       "      <td>44</td>\n",
       "      <td>33</td>\n",
       "      <td>Hello</td>\n",
       "    </tr>\n",
       "    <tr>\n",
       "      <th>4</th>\n",
       "      <td>12</td>\n",
       "      <td>15</td>\n",
       "      <td>16</td>\n",
       "      <td>32</td>\n",
       "      <td>45</td>\n",
       "      <td>World</td>\n",
       "    </tr>\n",
       "    <tr>\n",
       "      <th>5</th>\n",
       "      <td>19</td>\n",
       "      <td>43</td>\n",
       "      <td>12</td>\n",
       "      <td>32</td>\n",
       "      <td>53</td>\n",
       "      <td>Blah</td>\n",
       "    </tr>\n",
       "  </tbody>\n",
       "</table>\n",
       "</div>"
      ],
      "text/plain": [
       "   feature1  feature2  feature3  feature4  feature5 feature6\n",
       "0        12        33        22        12         4    Hello\n",
       "1        12        32        15        17         3    World\n",
       "2         5        12        34        32        12     Blah\n",
       "3         7        19        32        44        33    Hello\n",
       "4        12        15        16        32        45    World\n",
       "5        19        43        12        32        53     Blah"
      ]
     },
     "execution_count": 77,
     "metadata": {},
     "output_type": "execute_result"
    }
   ],
   "source": [
    "df"
   ]
  },
  {
   "cell_type": "code",
   "execution_count": 84,
   "id": "c0624fa2-24d8-474a-b6a4-0ba2583e20b1",
   "metadata": {},
   "outputs": [
    {
     "data": {
      "text/plain": [
       "(6, 6)"
      ]
     },
     "execution_count": 84,
     "metadata": {},
     "output_type": "execute_result"
    }
   ],
   "source": [
    "df.shape"
   ]
  },
  {
   "cell_type": "code",
   "execution_count": 85,
   "id": "6c376c1b-a660-4509-bc97-385f3fb5e2d2",
   "metadata": {},
   "outputs": [
    {
     "data": {
      "text/plain": [
       "Index(['feature1', 'feature2', 'feature3', 'feature4', 'feature5', 'feature6'], dtype='object')"
      ]
     },
     "execution_count": 85,
     "metadata": {},
     "output_type": "execute_result"
    }
   ],
   "source": [
    "df.columns"
   ]
  },
  {
   "cell_type": "code",
   "execution_count": 86,
   "id": "0d29794f-2258-4caa-94c8-6f4023122f0e",
   "metadata": {},
   "outputs": [
    {
     "data": {
      "text/plain": [
       "RangeIndex(start=0, stop=6, step=1)"
      ]
     },
     "execution_count": 86,
     "metadata": {},
     "output_type": "execute_result"
    }
   ],
   "source": [
    "df.index"
   ]
  },
  {
   "cell_type": "code",
   "execution_count": 91,
   "id": "86cec31d-ff94-4330-b536-7fbec1c8217f",
   "metadata": {},
   "outputs": [
    {
     "data": {
      "text/html": [
       "<div>\n",
       "<style scoped>\n",
       "    .dataframe tbody tr th:only-of-type {\n",
       "        vertical-align: middle;\n",
       "    }\n",
       "\n",
       "    .dataframe tbody tr th {\n",
       "        vertical-align: top;\n",
       "    }\n",
       "\n",
       "    .dataframe thead th {\n",
       "        text-align: right;\n",
       "    }\n",
       "</style>\n",
       "<table border=\"1\" class=\"dataframe\">\n",
       "  <thead>\n",
       "    <tr style=\"text-align: right;\">\n",
       "      <th></th>\n",
       "      <th>feature1</th>\n",
       "      <th>feature2</th>\n",
       "      <th>feature3</th>\n",
       "      <th>feature4</th>\n",
       "      <th>feature5</th>\n",
       "      <th>feature6</th>\n",
       "    </tr>\n",
       "  </thead>\n",
       "  <tbody>\n",
       "    <tr>\n",
       "      <th>0</th>\n",
       "      <td>12</td>\n",
       "      <td>33</td>\n",
       "      <td>22</td>\n",
       "      <td>12</td>\n",
       "      <td>4</td>\n",
       "      <td>Hello</td>\n",
       "    </tr>\n",
       "    <tr>\n",
       "      <th>1</th>\n",
       "      <td>12</td>\n",
       "      <td>32</td>\n",
       "      <td>15</td>\n",
       "      <td>17</td>\n",
       "      <td>3</td>\n",
       "      <td>World</td>\n",
       "    </tr>\n",
       "    <tr>\n",
       "      <th>2</th>\n",
       "      <td>5</td>\n",
       "      <td>12</td>\n",
       "      <td>34</td>\n",
       "      <td>32</td>\n",
       "      <td>12</td>\n",
       "      <td>Blah</td>\n",
       "    </tr>\n",
       "    <tr>\n",
       "      <th>3</th>\n",
       "      <td>7</td>\n",
       "      <td>19</td>\n",
       "      <td>32</td>\n",
       "      <td>44</td>\n",
       "      <td>33</td>\n",
       "      <td>Hello</td>\n",
       "    </tr>\n",
       "    <tr>\n",
       "      <th>4</th>\n",
       "      <td>12</td>\n",
       "      <td>15</td>\n",
       "      <td>16</td>\n",
       "      <td>32</td>\n",
       "      <td>45</td>\n",
       "      <td>World</td>\n",
       "    </tr>\n",
       "  </tbody>\n",
       "</table>\n",
       "</div>"
      ],
      "text/plain": [
       "   feature1  feature2  feature3  feature4  feature5 feature6\n",
       "0        12        33        22        12         4    Hello\n",
       "1        12        32        15        17         3    World\n",
       "2         5        12        34        32        12     Blah\n",
       "3         7        19        32        44        33    Hello\n",
       "4        12        15        16        32        45    World"
      ]
     },
     "execution_count": 91,
     "metadata": {},
     "output_type": "execute_result"
    }
   ],
   "source": [
    "df.head(5)"
   ]
  },
  {
   "cell_type": "code",
   "execution_count": null,
   "id": "84fe348b-38d2-4bda-ad0c-be2091b58c78",
   "metadata": {},
   "outputs": [],
   "source": []
  }
 ],
 "metadata": {
  "kernelspec": {
   "display_name": "dataScience",
   "language": "python",
   "name": "datascience"
  },
  "language_info": {
   "codemirror_mode": {
    "name": "ipython",
    "version": 3
   },
   "file_extension": ".py",
   "mimetype": "text/x-python",
   "name": "python",
   "nbconvert_exporter": "python",
   "pygments_lexer": "ipython3",
   "version": "3.9.6"
  }
 },
 "nbformat": 4,
 "nbformat_minor": 5
}
