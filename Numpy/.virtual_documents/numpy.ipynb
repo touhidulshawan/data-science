import numpy as np


my_list = [1, 2, 3]

type(my_list)


my_arr = np.array(my_list)
my_arr


type(my_arr)


my_matrix = [[1, 2, 3], [4, 5, 6], [7, 8, 9]]
my_matrix


matrix_arr = np.array(my_matrix)
matrix_arr


matrix_arr.shape


np.arange(0, 101, 2)


np.zeros((5, 5), dtype=int)


np.ones((10, 10), dtype=int)


np.linspace(1, 10, 5)


np.eye(5)


random_numbers = np.random.randint(0, 100, 10)
random_numbers


random_numbers.max()


random_numbers.min()


random_numbers.argmax()


random_numbers.argmin()


np.random.seed(42)
np.random.rand(4)


arr = np.arange(0, 25)
arr


arr.reshape(5, 5)


arr = np.arange(1, 11)
arr


arr[:5] = 50
arr


arr_2d = np.array([[1, 2, 3], [4, 5, 6], [7, 8, 9]])
arr_2d


arr_2d[0:2]


arr_2d[:2, 1:]
