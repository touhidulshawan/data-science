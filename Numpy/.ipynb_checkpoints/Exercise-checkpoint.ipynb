{
 "cells": [
  {
   "cell_type": "markdown",
   "id": "87b0d7b0-a8ae-44a4-807e-323943ecb60e",
   "metadata": {},
   "source": [
    "#### What is the 7 to the power 4?"
   ]
  },
  {
   "cell_type": "code",
   "execution_count": 1,
   "id": "cc67a41c-f057-4044-be8a-ded48e3fce10",
   "metadata": {},
   "outputs": [
    {
     "name": "stdout",
     "output_type": "stream",
     "text": [
      "2401\n"
     ]
    }
   ],
   "source": [
    "print(7**4)"
   ]
  },
  {
   "cell_type": "markdown",
   "id": "02ef57b3-d9bd-4abc-afed-703835269a6c",
   "metadata": {},
   "source": [
    "#### Split this string `s = \"Hi there sam!\"`"
   ]
  },
  {
   "cell_type": "code",
   "execution_count": 2,
   "id": "a0de295e-67c9-498c-a384-b06b21223b51",
   "metadata": {},
   "outputs": [
    {
     "name": "stdout",
     "output_type": "stream",
     "text": [
      "['Hi', 'there', 'sam!']\n"
     ]
    }
   ],
   "source": [
    "s = \"Hi there sam!\"\n",
    "\n",
    "words = [str(word) for word in s.split()]\n",
    "\n",
    "print(words)"
   ]
  }
 ],
 "metadata": {
  "kernelspec": {
   "display_name": "dataScience",
   "language": "python",
   "name": "datascience"
  },
  "language_info": {
   "codemirror_mode": {
    "name": "ipython",
    "version": 3
   },
   "file_extension": ".py",
   "mimetype": "text/x-python",
   "name": "python",
   "nbconvert_exporter": "python",
   "pygments_lexer": "ipython3",
   "version": "3.9.6"
  }
 },
 "nbformat": 4,
 "nbformat_minor": 5
}
